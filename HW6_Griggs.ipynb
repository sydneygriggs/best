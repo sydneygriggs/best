{
 "cells": [
  {
   "cell_type": "markdown",
   "metadata": {},
   "source": [
    "** Homework six (25 Points)**\n",
    "\n",
    "• (Reading) Ch5, Machine Learning [Python Data Science Handbook](https://jakevdp.github.io/PythonDataScienceHandbook/), up to and including Linear Regression; and the in-class reading ** cross_validation_forEconomists ** on polylearn. \n",
    "\n",
    "• (UnGraded) DataCamp chapter in Supervised Learning with scikit-learn: **Regression** and **Fine Tuning Your Model**. For the Tuning chapter focus on the lessons including and following (Hyperparameter tuning). Quiz questions will be from these chapters and the reading.\n",
    "\n",
    "• (Graded) Below notebook on fine tuning your model. If you're working in a group (max 3 people) please do submit it as a group. Submit only one assignment. You will both receive credit. This homework is longer and will count as hw6 and hw7 - 20 points. The code is very similar to our in-class exercise, therefore, points are granted for understanding of the output. "
   ]
  },
  {
   "cell_type": "code",
   "execution_count": 66,
   "metadata": {},
   "outputs": [],
   "source": [
    "# Import Modules\n",
    "import numpy as np\n",
    "import pandas as pd\n",
    "import matplotlib.pyplot as plt\n",
    "%matplotlib inline  \n",
    "from sklearn.linear_model import LinearRegression\n",
    "from sklearn.linear_model import Ridge\n",
    "from sklearn.linear_model import RidgeCV\n",
    "from sklearn.grid_search import GridSearchCV\n",
    "from sklearn.cross_validation import KFold\n",
    "from sklearn.cross_validation import cross_val_score\n",
    "from sklearn.metrics import mean_squared_error\n",
    "from sklearn.cross_validation import train_test_split\n",
    "from sklearn.preprocessing import PolynomialFeatures"
   ]
  },
  {
   "cell_type": "code",
   "execution_count": 67,
   "metadata": {},
   "outputs": [],
   "source": [
    "# Load the Ladybug data\n",
    "'''In 1983 an article was published about ladybird beetles and their \n",
    "behavior changes under different temperature conditions (N. H. Copp. Animal Behavior, 31,:424-430). \n",
    "An experiment was run to see how many beetles stayed in light as temperature changed.\n",
    "'''\n",
    "\n",
    "# Read the CSV file into a DataFrame: df\n",
    "df = pd.read_csv(\"LadyBugs.csv\")\n",
    "\n",
    "# Create arrays for features (Lighted) and target variable (Temp)\n",
    "yp = df[['Lighted']]\n",
    "xp = df[['Temp']]"
   ]
  },
  {
   "cell_type": "code",
   "execution_count": 68,
   "metadata": {},
   "outputs": [
    {
     "data": {
      "text/html": [
       "<div>\n",
       "<style scoped>\n",
       "    .dataframe tbody tr th:only-of-type {\n",
       "        vertical-align: middle;\n",
       "    }\n",
       "\n",
       "    .dataframe tbody tr th {\n",
       "        vertical-align: top;\n",
       "    }\n",
       "\n",
       "    .dataframe thead th {\n",
       "        text-align: right;\n",
       "    }\n",
       "</style>\n",
       "<table border=\"1\" class=\"dataframe\">\n",
       "  <thead>\n",
       "    <tr style=\"text-align: right;\">\n",
       "      <th></th>\n",
       "      <th>Temp</th>\n",
       "      <th>Lighted</th>\n",
       "    </tr>\n",
       "  </thead>\n",
       "  <tbody>\n",
       "    <tr>\n",
       "      <th>0</th>\n",
       "      <td>-2</td>\n",
       "      <td>28</td>\n",
       "    </tr>\n",
       "    <tr>\n",
       "      <th>1</th>\n",
       "      <td>-1</td>\n",
       "      <td>29</td>\n",
       "    </tr>\n",
       "    <tr>\n",
       "      <th>2</th>\n",
       "      <td>0</td>\n",
       "      <td>22</td>\n",
       "    </tr>\n",
       "    <tr>\n",
       "      <th>3</th>\n",
       "      <td>1</td>\n",
       "      <td>28</td>\n",
       "    </tr>\n",
       "    <tr>\n",
       "      <th>4</th>\n",
       "      <td>2</td>\n",
       "      <td>34</td>\n",
       "    </tr>\n",
       "  </tbody>\n",
       "</table>\n",
       "</div>"
      ],
      "text/plain": [
       "   Temp  Lighted\n",
       "0    -2       28\n",
       "1    -1       29\n",
       "2     0       22\n",
       "3     1       28\n",
       "4     2       34"
      ]
     },
     "execution_count": 68,
     "metadata": {},
     "output_type": "execute_result"
    }
   ],
   "source": [
    "# Show the first 5 observations (1 point)\n",
    "# your code here\n",
    "df.head()"
   ]
  },
  {
   "cell_type": "markdown",
   "metadata": {
    "collapsed": true
   },
   "source": [
    "# Linear Regression, Part I  "
   ]
  },
  {
   "cell_type": "code",
   "execution_count": 69,
   "metadata": {},
   "outputs": [
    {
     "data": {
      "text/plain": [
       "array([[ 0.00000000e+00, -1.10556068e-10, -1.08683189e-12,\n",
       "         4.73740107e-13,  5.30569126e-12,  5.45242719e-11,\n",
       "         5.00352030e-10,  3.88485318e-09,  2.29017719e-08,\n",
       "         7.69672632e-08, -1.75303687e-08,  1.60807101e-09,\n",
       "        -7.75419887e-11,  2.08146201e-12, -2.95371196e-14,\n",
       "         1.73269314e-16]])"
      ]
     },
     "execution_count": 69,
     "metadata": {},
     "output_type": "execute_result"
    }
   ],
   "source": [
    "# (1 point)\n",
    "# Create training and test sets with 0.3 test size\n",
    "xr_train, xr_test, yr_train, yr_test = train_test_split(xr, yr, test_size = 0.3)\n",
    "\n",
    "# Create linear regression object call ols\n",
    "ols = LinearRegression()\n",
    "ols\n",
    "  \n",
    "# Train the model using the training sets\n",
    "# your code here\n",
    "ols.fit(xr_train, yr_train)\n",
    "# Report the coefficient \n",
    "# your code here  \n",
    "ols.coef_"
   ]
  },
  {
   "cell_type": "markdown",
   "metadata": {},
   "source": [
    "## Plot outputs"
   ]
  },
  {
   "cell_type": "code",
   "execution_count": 74,
   "metadata": {},
   "outputs": [
    {
     "ename": "SyntaxError",
     "evalue": "invalid syntax (<ipython-input-74-63110d016d17>, line 9)",
     "output_type": "error",
     "traceback": [
      "\u001b[0;36m  File \u001b[0;32m\"<ipython-input-74-63110d016d17>\"\u001b[0;36m, line \u001b[0;32m9\u001b[0m\n\u001b[0;31m    plt.scatter(xl_test.iloc[:, [1]], yl_test, color = 'blue')\u001b[0m\n\u001b[0m      ^\u001b[0m\n\u001b[0;31mSyntaxError\u001b[0m\u001b[0;31m:\u001b[0m invalid syntax\n"
     ]
    }
   ],
   "source": [
    "# (1 point)\n",
    "# This plots the predicted ols fitted line\n",
    "\n",
    "predictor_space = pd.DataFrame(np.arange(min, max,  0.05))\n",
    "predicor_poly = pd.DataFrame(poly.fit_transform(predictor_space))\n",
    "plt.plot(predictor_space, ridge_final.predict(predictor_poly), color = 'blue'\n",
    "# Scatter plot the actual test data \n",
    "# your code here\n",
    "plt.scatter(xl_test.iloc[:, [1]], yl_test, color = 'blue')"
   ]
  },
  {
   "cell_type": "markdown",
   "metadata": {},
   "source": [
    "## Predict on the Test data"
   ]
  },
  {
   "cell_type": "code",
   "execution_count": 75,
   "metadata": {},
   "outputs": [
    {
     "name": "stdout",
     "output_type": "stream",
     "text": [
      "R^2: 0.12863410613499016\n",
      "Root Mean Squared Error: 12.605193505046667\n"
     ]
    }
   ],
   "source": [
    "# Get the predicted y_pred using the test data\n",
    "y_pred = ols.predict(xr_test)\n",
    "\n",
    "# Compute and print the R^2 and RMSE\n",
    "print(\"R^2: {}\".format(ols.score(xr_test, yr_test)))\n",
    "rmse = np.sqrt(mean_squared_error(yr_test, y_pred))\n",
    "print(\"Root Mean Squared Error: {}\".format(rmse))"
   ]
  },
  {
   "cell_type": "markdown",
   "metadata": {},
   "source": [
    "## a. Does this plot look like a good fit to the data? # (1 point)\n",
    "No, the rmse is very large\n",
    "## b. What do out of sample metrics tell you? (1 point)\n",
    "### the sample metrics don't represent the data"
   ]
  },
  {
   "cell_type": "markdown",
   "metadata": {},
   "source": [
    "# Polynomial Regression, Part II"
   ]
  },
  {
   "cell_type": "code",
   "execution_count": 78,
   "metadata": {},
   "outputs": [
    {
     "name": "stdout",
     "output_type": "stream",
     "text": [
      "Dimensions of X after reshaping: (44, 16)\n"
     ]
    },
    {
     "data": {
      "text/plain": [
       "array([[ 0.00000000e+00,  1.53701130e-11,  1.09024503e-12,\n",
       "         4.31478604e-13,  4.87753867e-12,  5.07119226e-11,\n",
       "         4.71508829e-10,  3.71234085e-09,  2.22056094e-08,\n",
       "         7.57784778e-08, -1.70197071e-08,  1.54351067e-09,\n",
       "        -7.37244032e-11,  1.96344611e-12, -2.76824092e-14,\n",
       "         1.61534268e-16]])"
      ]
     },
     "execution_count": 78,
     "metadata": {},
     "output_type": "execute_result"
    }
   ],
   "source": [
    "#(2 points)\n",
    "# Reload the CSV file into a DataFrame: df\n",
    "df = pd.read_csv(\"LadyBugs.csv\")\n",
    "\n",
    "# Create arrays for features (Lighted) and target variable (Temp)\n",
    "yl = df[['Lighted']]\n",
    "xl = df[['Temp']]\n",
    "\n",
    "# Add in 15-degree polynomial of the X variables\n",
    "poly = PolynomialFeatures(degree = 15)\n",
    "xl = pd.DataFrame(poly.fit_transform(xl))\n",
    "print(\"Dimensions of X after reshaping: {}\".format(xl.shape))\n",
    "\n",
    "# Create training and test sets with .3 test size\n",
    "# your code here\n",
    "xl_train, xl_test, yl_train, yl_test = train_test_split(xl, yl, test_size = 0.3)\n",
    "# Create linear regression object, ols2\n",
    "# your code here\n",
    "ols2 = LinearRegression()\n",
    "# Fit the model using the training sets \n",
    "# your code here\n",
    "ols2.fit(xl_train, yl_train)\n",
    "# Report the coefficients\n",
    "# your code here                    \n",
    "ols2.coef_"
   ]
  },
  {
   "cell_type": "markdown",
   "metadata": {},
   "source": [
    "## Plot outputs"
   ]
  },
  {
   "cell_type": "code",
   "execution_count": 77,
   "metadata": {},
   "outputs": [
    {
     "ename": "TypeError",
     "evalue": "cannot convert the series to <class 'float'>",
     "output_type": "error",
     "traceback": [
      "\u001b[0;31m---------------------------------------------------------------------------\u001b[0m",
      "\u001b[0;31mTypeError\u001b[0m                                 Traceback (most recent call last)",
      "\u001b[0;32m<ipython-input-77-5d72efab86ad>\u001b[0m in \u001b[0;36m<module>\u001b[0;34m()\u001b[0m\n\u001b[1;32m      1\u001b[0m \u001b[0;31m#(1 point)\u001b[0m\u001b[0;34m\u001b[0m\u001b[0;34m\u001b[0m\u001b[0m\n\u001b[1;32m      2\u001b[0m \u001b[0;31m# This plots the predicted ols fitted line\u001b[0m\u001b[0;34m\u001b[0m\u001b[0;34m\u001b[0m\u001b[0m\n\u001b[0;32m----> 3\u001b[0;31m \u001b[0mpredictor_space\u001b[0m \u001b[0;34m=\u001b[0m \u001b[0mpd\u001b[0m\u001b[0;34m.\u001b[0m\u001b[0mDataFrame\u001b[0m\u001b[0;34m(\u001b[0m\u001b[0mnp\u001b[0m\u001b[0;34m.\u001b[0m\u001b[0marange\u001b[0m\u001b[0;34m(\u001b[0m\u001b[0mmin\u001b[0m\u001b[0;34m,\u001b[0m \u001b[0mmax\u001b[0m\u001b[0;34m,\u001b[0m \u001b[0;36m0.05\u001b[0m\u001b[0;34m)\u001b[0m\u001b[0;34m)\u001b[0m \u001b[0;31m# Creates prediction space on x interval\u001b[0m\u001b[0;34m\u001b[0m\u001b[0m\n\u001b[0m\u001b[1;32m      4\u001b[0m \u001b[0mpredictor_poly\u001b[0m \u001b[0;34m=\u001b[0m \u001b[0mpd\u001b[0m\u001b[0;34m.\u001b[0m\u001b[0mDataFrame\u001b[0m\u001b[0;34m(\u001b[0m\u001b[0mpoly\u001b[0m\u001b[0;34m.\u001b[0m\u001b[0mfit_transform\u001b[0m\u001b[0;34m(\u001b[0m\u001b[0mpredictor_space\u001b[0m\u001b[0;34m)\u001b[0m\u001b[0;34m)\u001b[0m \u001b[0;31m# Creates data to predict on\u001b[0m\u001b[0;34m\u001b[0m\u001b[0m\n\u001b[1;32m      5\u001b[0m \u001b[0mplt\u001b[0m\u001b[0;34m.\u001b[0m\u001b[0mplot\u001b[0m\u001b[0;34m(\u001b[0m\u001b[0mpredictor_space\u001b[0m\u001b[0;34m,\u001b[0m \u001b[0mols2\u001b[0m\u001b[0;34m.\u001b[0m\u001b[0mpredict\u001b[0m\u001b[0;34m(\u001b[0m\u001b[0mpredictor_poly\u001b[0m\u001b[0;34m)\u001b[0m\u001b[0;34m,\u001b[0m \u001b[0mcolor\u001b[0m\u001b[0;34m=\u001b[0m\u001b[0;34m'blue'\u001b[0m\u001b[0;34m)\u001b[0m \u001b[0;31m# Plot fitted model\u001b[0m\u001b[0;34m\u001b[0m\u001b[0m\n",
      "\u001b[0;32m~/anaconda3/lib/python3.6/site-packages/pandas/core/series.py\u001b[0m in \u001b[0;36mwrapper\u001b[0;34m(self)\u001b[0m\n\u001b[1;32m    110\u001b[0m             \u001b[0;32mreturn\u001b[0m \u001b[0mconverter\u001b[0m\u001b[0;34m(\u001b[0m\u001b[0mself\u001b[0m\u001b[0;34m.\u001b[0m\u001b[0miloc\u001b[0m\u001b[0;34m[\u001b[0m\u001b[0;36m0\u001b[0m\u001b[0;34m]\u001b[0m\u001b[0;34m)\u001b[0m\u001b[0;34m\u001b[0m\u001b[0m\n\u001b[1;32m    111\u001b[0m         raise TypeError(\"cannot convert the series to \"\n\u001b[0;32m--> 112\u001b[0;31m                         \"{0}\".format(str(converter)))\n\u001b[0m\u001b[1;32m    113\u001b[0m \u001b[0;34m\u001b[0m\u001b[0m\n\u001b[1;32m    114\u001b[0m     \u001b[0;32mreturn\u001b[0m \u001b[0mwrapper\u001b[0m\u001b[0;34m\u001b[0m\u001b[0m\n",
      "\u001b[0;31mTypeError\u001b[0m: cannot convert the series to <class 'float'>"
     ]
    }
   ],
   "source": [
    "#(1 point)\n",
    "# This plots the predicted ols fitted line\n",
    "predictor_space = pd.DataFrame(np.arange(min, max, 0.05)) # Creates prediction space on x interval\n",
    "predictor_poly = pd.DataFrame(poly.fit_transform(predictor_space)) # Creates data to predict on\n",
    "plt.plot(predictor_space, ols2.predict(predictor_poly), color='blue') # Plot fitted model \n",
    "\n",
    "# Scatter plot the actual test data\n",
    "# your code here\n",
    "plt.scatter(Xp_test.iloc[:,[1]], yp_test, color='black')"
   ]
  },
  {
   "cell_type": "markdown",
   "metadata": {},
   "source": [
    "## Predict on the Test data"
   ]
  },
  {
   "cell_type": "code",
   "execution_count": 80,
   "metadata": {},
   "outputs": [
    {
     "name": "stdout",
     "output_type": "stream",
     "text": [
      "R^2: 0.4279876120564059\n",
      "Root Mean Squared Error: 10.561131790688766\n"
     ]
    }
   ],
   "source": [
    "#(1 point)\n",
    "# Predict on the test data: y_pred\n",
    "# your code here\n",
    "y_pred = ols2.predict(xl_test)\n",
    "# Computer and print R^2 and RMSE\n",
    "# your code here\n",
    "print(\"R^2: {}\".format(ridge_final.score(xl_test, yl_test)))\n",
    "rmse = np.sqrt(mean_squared_error(yl_test, y_pred))\n",
    "print(\"Root Mean Squared Error: {}\".format(rmse))"
   ]
  },
  {
   "cell_type": "markdown",
   "metadata": {},
   "source": [
    "## a. Does this plot look better than the previous OLS plot? (1 point)\n",
    "yes this plot looks better\n",
    "## b. Why? What do out of sample metrics tell you? (1 point)\n",
    "### the mse is lower and the R^2 is higher"
   ]
  },
  {
   "cell_type": "markdown",
   "metadata": {},
   "source": [
    "# Ridge Regression, Part III"
   ]
  },
  {
   "cell_type": "code",
   "execution_count": 60,
   "metadata": {},
   "outputs": [
    {
     "name": "stdout",
     "output_type": "stream",
     "text": [
      "Dimensions of X after reshaping (44, 16)\n"
     ]
    },
    {
     "data": {
      "text/plain": [
       "array([[ 0.00000000e+00,  1.21435603e+00, -1.92893705e-03,\n",
       "        -3.40700796e-04, -1.09976553e-05, -2.77020561e-07,\n",
       "        -6.15326114e-09, -1.20611906e-10, -1.90141353e-12,\n",
       "        -1.31360216e-14,  6.94463044e-16,  4.71559737e-17,\n",
       "         2.03626422e-18,  7.53975419e-20,  2.58150642e-21,\n",
       "         8.43024549e-23]])"
      ]
     },
     "execution_count": 60,
     "metadata": {},
     "output_type": "execute_result"
    }
   ],
   "source": [
    "#(1 point)\n",
    "# Read the CSV file into a DataFrame: df\n",
    "# your code here\n",
    "\n",
    "df = pd.read_csv(\"LadyBugs.csv\")\n",
    "\n",
    "# Create arrays for features (Lighted) and target variable (Temp)\n",
    "# your code here\n",
    "yr = df[['Lighted']]\n",
    "xr = df[['Temp']]\n",
    "# Add in 15-degree polynomial of the X variables\n",
    "# your code here\n",
    "poly = PolynomialFeatures(degree = 15)\n",
    "xr = pd.DataFrame(poly.fit_transform(xr))\n",
    "print (\"Dimensions of X after reshaping {}\".format(xr.shape))\n",
    "# Create training and test sets\n",
    "# your code here\n",
    "xr_train, xr_test, yr_train, yr_test = train_test_split(xr, yr, test_size = 0.3)\n",
    "# Create a ridge regressor object called ridge with lambda = 0.1\n",
    "ridge = Ridge(normalize = True, alpha = 0.1)\n",
    "\n",
    "# Train the ridge model using the training sets (the polynomial factors are in the data)\n",
    "# your code here\n",
    "ridge.fit(xr_train, yr_train)\n",
    "# The coefficients\n",
    "# your code here\n",
    "ridge.coef_"
   ]
  },
  {
   "cell_type": "markdown",
   "metadata": {},
   "source": [
    "## Plot outputs"
   ]
  },
  {
   "cell_type": "code",
   "execution_count": 61,
   "metadata": {},
   "outputs": [
    {
     "ename": "TypeError",
     "evalue": "cannot convert the series to <class 'float'>",
     "output_type": "error",
     "traceback": [
      "\u001b[0;31m---------------------------------------------------------------------------\u001b[0m",
      "\u001b[0;31mTypeError\u001b[0m                                 Traceback (most recent call last)",
      "\u001b[0;32m<ipython-input-61-32400f374045>\u001b[0m in \u001b[0;36m<module>\u001b[0;34m()\u001b[0m\n\u001b[1;32m      2\u001b[0m \u001b[0;31m# This plots the predicted ols fitted line\u001b[0m\u001b[0;34m\u001b[0m\u001b[0;34m\u001b[0m\u001b[0m\n\u001b[1;32m      3\u001b[0m \u001b[0;31m# your code here (see code above in Part II plot outputs for help)\u001b[0m\u001b[0;34m\u001b[0m\u001b[0;34m\u001b[0m\u001b[0m\n\u001b[0;32m----> 4\u001b[0;31m \u001b[0mpredictor_space\u001b[0m \u001b[0;34m=\u001b[0m \u001b[0mpd\u001b[0m\u001b[0;34m.\u001b[0m\u001b[0mDataFrame\u001b[0m\u001b[0;34m(\u001b[0m\u001b[0mnp\u001b[0m\u001b[0;34m.\u001b[0m\u001b[0marange\u001b[0m\u001b[0;34m(\u001b[0m\u001b[0mmin\u001b[0m\u001b[0;34m,\u001b[0m \u001b[0mmax\u001b[0m\u001b[0;34m,\u001b[0m \u001b[0;36m0.05\u001b[0m\u001b[0;34m)\u001b[0m\u001b[0;34m)\u001b[0m\u001b[0;34m\u001b[0m\u001b[0m\n\u001b[0m\u001b[1;32m      5\u001b[0m \u001b[0mpredictor_poly\u001b[0m \u001b[0;34m=\u001b[0m \u001b[0mpd\u001b[0m\u001b[0;34m.\u001b[0m\u001b[0mDataFrame\u001b[0m\u001b[0;34m(\u001b[0m\u001b[0mpoly\u001b[0m\u001b[0;34m.\u001b[0m\u001b[0mfit_transform\u001b[0m\u001b[0;34m(\u001b[0m\u001b[0mpredictor_space\u001b[0m\u001b[0;34m)\u001b[0m\u001b[0;34m)\u001b[0m\u001b[0;34m\u001b[0m\u001b[0m\n\u001b[1;32m      6\u001b[0m \u001b[0mplt\u001b[0m\u001b[0;34m.\u001b[0m\u001b[0mplot\u001b[0m\u001b[0;34m(\u001b[0m\u001b[0mpredictor_space\u001b[0m\u001b[0;34m,\u001b[0m \u001b[0mridge_final\u001b[0m\u001b[0;34m.\u001b[0m\u001b[0mpredict\u001b[0m\u001b[0;34m(\u001b[0m\u001b[0mpredictor_poly\u001b[0m\u001b[0;34m)\u001b[0m\u001b[0;34m,\u001b[0m \u001b[0mcolor\u001b[0m \u001b[0;34m=\u001b[0m \u001b[0;34m'blue'\u001b[0m\u001b[0;34m)\u001b[0m\u001b[0;34m\u001b[0m\u001b[0m\n",
      "\u001b[0;32m~/anaconda3/lib/python3.6/site-packages/pandas/core/series.py\u001b[0m in \u001b[0;36mwrapper\u001b[0;34m(self)\u001b[0m\n\u001b[1;32m    110\u001b[0m             \u001b[0;32mreturn\u001b[0m \u001b[0mconverter\u001b[0m\u001b[0;34m(\u001b[0m\u001b[0mself\u001b[0m\u001b[0;34m.\u001b[0m\u001b[0miloc\u001b[0m\u001b[0;34m[\u001b[0m\u001b[0;36m0\u001b[0m\u001b[0;34m]\u001b[0m\u001b[0;34m)\u001b[0m\u001b[0;34m\u001b[0m\u001b[0m\n\u001b[1;32m    111\u001b[0m         raise TypeError(\"cannot convert the series to \"\n\u001b[0;32m--> 112\u001b[0;31m                         \"{0}\".format(str(converter)))\n\u001b[0m\u001b[1;32m    113\u001b[0m \u001b[0;34m\u001b[0m\u001b[0m\n\u001b[1;32m    114\u001b[0m     \u001b[0;32mreturn\u001b[0m \u001b[0mwrapper\u001b[0m\u001b[0;34m\u001b[0m\u001b[0m\n",
      "\u001b[0;31mTypeError\u001b[0m: cannot convert the series to <class 'float'>"
     ]
    }
   ],
   "source": [
    "#(1 point)\n",
    "# This plots the predicted ols fitted line\n",
    "# your code here (see code above in Part II plot outputs for help)\n",
    "predictor_space = pd.DataFrame(np.arange(min, max, 0.05))\n",
    "predictor_poly = pd.DataFrame(poly.fit_transform(predictor_space))\n",
    "plt.plot(predictor_space, ridge_final.predict(predictor_poly), color = 'blue')\n",
    "# Scatter plot the actual test data\n",
    "# your code here\n",
    "plt.scatter(xl_test.iloc[:, [1]], yl_test, color = 'blue')"
   ]
  },
  {
   "cell_type": "markdown",
   "metadata": {},
   "source": [
    "## a. Does this plot look better than the previous Polynomial plot? (1 point)\n",
    "## b. Why? What do out of sample metrics tell you? (1 point)\n",
    "### your answer here"
   ]
  },
  {
   "cell_type": "markdown",
   "metadata": {},
   "source": [
    "# Get the 5 fold CV Scores (R2) for all 3 models"
   ]
  },
  {
   "cell_type": "code",
   "execution_count": 62,
   "metadata": {},
   "outputs": [
    {
     "name": "stdout",
     "output_type": "stream",
     "text": [
      "Cross-validated OLS scores: [-2.54060171e+01 -5.74218783e-03 -1.74007772e+01 -3.38514690e+01\n",
      " -9.08551523e+14]\n",
      "Cross-validated OLS scores: [-30.75075459  -0.04556113 -14.29669246  -2.24972457 -29.57476511]\n",
      "Cross-validated OLS scores: [-2.33809737e+01  2.19479692e-01 -1.09999672e+01 -4.16344039e-01\n",
      " -7.06842774e+04]\n"
     ]
    }
   ],
   "source": [
    "#(1 points)\n",
    "\n",
    "#ols\n",
    "ols_scores = cross_val_score(ols, xl, yl, cv = 5, scoring = 'r2')\n",
    "print(\"Cross-validated OLS scores:\", ols_scores)\n",
    "\n",
    "#ols2\n",
    "poly_scores = cross_val_score(ols2, xp, yp, cv = 5, scoring = 'r2')\n",
    "# your code here\n",
    "print(\"Cross-validated OLS scores:\", poly_scores)\n",
    "# ridge\n",
    "ridge_scores = cross_val_score(ridge, xr, yr, cv = 5, scoring = 'r2')\n",
    "# your code here\n",
    "print(\"Cross-validated OLS scores:\", ridge_scores)"
   ]
  },
  {
   "cell_type": "markdown",
   "metadata": {},
   "source": [
    "## Explain which model if any is best and why. (1 point)\n",
    "### your answer here"
   ]
  },
  {
   "cell_type": "markdown",
   "metadata": {},
   "source": [
    "# Hyper Tune Lambda, K-fold Grid Search, Ridge Regression, Part IV"
   ]
  },
  {
   "cell_type": "code",
   "execution_count": 63,
   "metadata": {},
   "outputs": [
    {
     "name": "stdout",
     "output_type": "stream",
     "text": [
      "Dimensios of X after reshaping: (44, 16)\n"
     ]
    },
    {
     "data": {
      "text/plain": [
       "Ridge(alpha=0.10621052631578948, copy_X=True, fit_intercept=True,\n",
       "   max_iter=None, normalize=True, random_state=None, solver='auto',\n",
       "   tol=0.001)"
      ]
     },
     "execution_count": 63,
     "metadata": {},
     "output_type": "execute_result"
    }
   ],
   "source": [
    "#(4 points)\n",
    "\n",
    "# Read the CSV file into a DataFrame: df\n",
    "# your code here\n",
    "df = pd.read_csv('LadyBugs.csv')\n",
    "# Create arrays for features (Lighted) and target variable (Temp)\n",
    "# your code here\n",
    "yl = df[['Lighted']]\n",
    "xl = df[['Temp']]\n",
    "# Add in 15-degree polynomial of the X variables\n",
    "# your code here\n",
    "poly = PolynomialFeatures(degree = 15)\n",
    "xl = pd.DataFrame(poly.fit_transform(xl))\n",
    "print(\"Dimensios of X after reshaping: {}\".format(xl.shape))\n",
    "# Create training and test sets with 0.3 hold out for test data\n",
    "# your code here\n",
    "xl_train, xl_test, yl_train, yl_test = train_test_split(xl, yl, test_size = 0.3)\n",
    "# Setup a grid of lambdas (aka alphas) called param_grid of 20 lambdas from .001 to 2 \n",
    "param_grid = {'alpha': np.linspace(0.001, 2.0, num = 20)}\n",
    "\n",
    "# Create a ridge regressor object called ridge\n",
    "# your code here\n",
    "ridge = Ridge(normalize = True, alpha = 0.1)\n",
    "# Setup the GridSearchCV object called grid_ridge for 5 folds using the param_grid above and ridge object\n",
    "grid_ridge = GridSearchCV(ridge, param_grid, cv = 5)\n",
    "\n",
    "# Train the model using the training sets 5 folds for all lambdas!\n",
    "# your code here\n",
    "grid_ridge.fit(xl_train, yl_train)\n",
    "#Get the best lambda\n",
    "best = grid_ridge.best_params_\n",
    "\n",
    "# Create a final ridge regressor object called ridge_final using the best lambda from hypertuning\n",
    "ridge_final = Ridge(alpha = best['alpha'], normalize = True)\n",
    "\n",
    "# Now fit this model on the test data \n",
    "# your code here\n",
    "ridge_final.fit(xl_test, yl_test)"
   ]
  },
  {
   "cell_type": "markdown",
   "metadata": {},
   "source": [
    "## Plot outputs"
   ]
  },
  {
   "cell_type": "code",
   "execution_count": 64,
   "metadata": {},
   "outputs": [
    {
     "ename": "TypeError",
     "evalue": "cannot convert the series to <class 'float'>",
     "output_type": "error",
     "traceback": [
      "\u001b[0;31m---------------------------------------------------------------------------\u001b[0m",
      "\u001b[0;31mTypeError\u001b[0m                                 Traceback (most recent call last)",
      "\u001b[0;32m<ipython-input-64-cc74971a6060>\u001b[0m in \u001b[0;36m<module>\u001b[0;34m()\u001b[0m\n\u001b[1;32m      1\u001b[0m \u001b[0;31m#(1 point)\u001b[0m\u001b[0;34m\u001b[0m\u001b[0;34m\u001b[0m\u001b[0m\n\u001b[1;32m      2\u001b[0m \u001b[0;31m# This plots the predicted ols fitted line\u001b[0m\u001b[0;34m\u001b[0m\u001b[0;34m\u001b[0m\u001b[0m\n\u001b[0;32m----> 3\u001b[0;31m \u001b[0mpredictor_space\u001b[0m \u001b[0;34m=\u001b[0m \u001b[0mpd\u001b[0m\u001b[0;34m.\u001b[0m\u001b[0mDataFrame\u001b[0m\u001b[0;34m(\u001b[0m\u001b[0mnp\u001b[0m\u001b[0;34m.\u001b[0m\u001b[0marange\u001b[0m\u001b[0;34m(\u001b[0m\u001b[0mmin\u001b[0m\u001b[0;34m,\u001b[0m \u001b[0mmax\u001b[0m\u001b[0;34m,\u001b[0m \u001b[0;36m0.05\u001b[0m\u001b[0;34m)\u001b[0m\u001b[0;34m)\u001b[0m \u001b[0;31m# Creates prediction space on x interval\u001b[0m\u001b[0;34m\u001b[0m\u001b[0m\n\u001b[0m\u001b[1;32m      4\u001b[0m \u001b[0mpredictor_poly\u001b[0m \u001b[0;34m=\u001b[0m \u001b[0mpd\u001b[0m\u001b[0;34m.\u001b[0m\u001b[0mDataFrame\u001b[0m\u001b[0;34m(\u001b[0m\u001b[0mpoly\u001b[0m\u001b[0;34m.\u001b[0m\u001b[0mfit_transform\u001b[0m\u001b[0;34m(\u001b[0m\u001b[0mpredictor_space\u001b[0m\u001b[0;34m)\u001b[0m\u001b[0;34m)\u001b[0m \u001b[0;31m# Creates data to predict on\u001b[0m\u001b[0;34m\u001b[0m\u001b[0m\n\u001b[1;32m      5\u001b[0m \u001b[0mplt\u001b[0m\u001b[0;34m.\u001b[0m\u001b[0mplot\u001b[0m\u001b[0;34m(\u001b[0m\u001b[0mpredictor_space\u001b[0m\u001b[0;34m,\u001b[0m \u001b[0mridge_final\u001b[0m\u001b[0;34m.\u001b[0m\u001b[0mpredict\u001b[0m\u001b[0;34m(\u001b[0m\u001b[0mpredictor_poly\u001b[0m\u001b[0;34m)\u001b[0m\u001b[0;34m,\u001b[0m \u001b[0mcolor\u001b[0m\u001b[0;34m=\u001b[0m\u001b[0;34m'blue'\u001b[0m\u001b[0;34m)\u001b[0m \u001b[0;31m# Plot fitted model\u001b[0m\u001b[0;34m\u001b[0m\u001b[0m\n",
      "\u001b[0;32m~/anaconda3/lib/python3.6/site-packages/pandas/core/series.py\u001b[0m in \u001b[0;36mwrapper\u001b[0;34m(self)\u001b[0m\n\u001b[1;32m    110\u001b[0m             \u001b[0;32mreturn\u001b[0m \u001b[0mconverter\u001b[0m\u001b[0;34m(\u001b[0m\u001b[0mself\u001b[0m\u001b[0;34m.\u001b[0m\u001b[0miloc\u001b[0m\u001b[0;34m[\u001b[0m\u001b[0;36m0\u001b[0m\u001b[0;34m]\u001b[0m\u001b[0;34m)\u001b[0m\u001b[0;34m\u001b[0m\u001b[0m\n\u001b[1;32m    111\u001b[0m         raise TypeError(\"cannot convert the series to \"\n\u001b[0;32m--> 112\u001b[0;31m                         \"{0}\".format(str(converter)))\n\u001b[0m\u001b[1;32m    113\u001b[0m \u001b[0;34m\u001b[0m\u001b[0m\n\u001b[1;32m    114\u001b[0m     \u001b[0;32mreturn\u001b[0m \u001b[0mwrapper\u001b[0m\u001b[0;34m\u001b[0m\u001b[0m\n",
      "\u001b[0;31mTypeError\u001b[0m: cannot convert the series to <class 'float'>"
     ]
    }
   ],
   "source": [
    "#(1 point)\n",
    "# This plots the predicted ols fitted line\n",
    "predictor_space = pd.DataFrame(np.arange(min, max, 0.05)) # Creates prediction space on x interval\n",
    "predictor_poly = pd.DataFrame(poly.fit_transform(predictor_space)) # Creates data to predict on\n",
    "plt.plot(predictor_space, ridge_final.predict(predictor_poly), color='blue') # Plot fitted model \n",
    "\n",
    "# Scatter plot the actual test data\n",
    "# your code here\n",
    "plt.scatter(xr_test.iloc[:,[1]], yr_test, color = 'black')\n",
    "\n",
    "yr_pred = ridge.predict(xr_test)\n",
    "\n",
    "print(\"R^2: {}\".format(ridge.score(xr_test, yr_test)))\n",
    "rmse = np.sqrt(mean_squared_error(yr_test, yr_pred))\n",
    "print(\"Root Mean Squared Error: {}\".format(rmse))"
   ]
  },
  {
   "cell_type": "markdown",
   "metadata": {},
   "source": [
    "## Final scores given tuned lambda"
   ]
  },
  {
   "cell_type": "code",
   "execution_count": 65,
   "metadata": {},
   "outputs": [
    {
     "name": "stdout",
     "output_type": "stream",
     "text": [
      "R^2: 0.45444993201746275\n",
      "Root Mean Squared Error: 8.286215833648203\n"
     ]
    }
   ],
   "source": [
    "#(1 point)\n",
    "# Predict on the test data: y_pred\n",
    "y_pred = ridge_final.predict(xl_test)\n",
    "\n",
    "# Compute and print R^2 and RMSE\n",
    "# your code here\n",
    "print(\"R^2: {}\".format(ridge_final.score(xl_test, yl_test)))\n",
    "rmse = np.sqrt(mean_squared_error(yl_test, y_pred))\n",
    "print(\"Root Mean Squared Error: {}\".format(rmse))"
   ]
  },
  {
   "cell_type": "markdown",
   "metadata": {},
   "source": [
    "## a. How does your final score (R2) compare to before? (1 point)\n",
    "## b. What about your fit to the data graphically? (1 point)\n",
    "## c. Why do you think the fit is better or worse using Ridge and hypertuning your lambda paramater? (2 point)\n",
    "### your answer here"
   ]
  },
  {
   "cell_type": "code",
   "execution_count": null,
   "metadata": {},
   "outputs": [],
   "source": []
  },
  {
   "cell_type": "code",
   "execution_count": null,
   "metadata": {},
   "outputs": [],
   "source": []
  },
  {
   "cell_type": "code",
   "execution_count": null,
   "metadata": {},
   "outputs": [],
   "source": []
  },
  {
   "cell_type": "code",
   "execution_count": null,
   "metadata": {},
   "outputs": [],
   "source": []
  }
 ],
 "metadata": {
  "kernelspec": {
   "display_name": "Python 3",
   "language": "python",
   "name": "python3"
  },
  "language_info": {
   "codemirror_mode": {
    "name": "ipython",
    "version": 3
   },
   "file_extension": ".py",
   "mimetype": "text/x-python",
   "name": "python",
   "nbconvert_exporter": "python",
   "pygments_lexer": "ipython3",
   "version": "3.6.4"
  }
 },
 "nbformat": 4,
 "nbformat_minor": 2
}
